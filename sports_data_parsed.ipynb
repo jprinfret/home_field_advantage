{
 "cells": [
  {
   "cell_type": "markdown",
   "metadata": {},
   "source": [
    "# Evaluating Home Field Advantage During the Regular Season"
   ]
  },
  {
   "cell_type": "markdown",
   "metadata": {},
   "source": [
    "## Import needed packages and config"
   ]
  },
  {
   "cell_type": "code",
   "execution_count": 1,
   "metadata": {},
   "outputs": [],
   "source": [
    "import requests\n",
    "import config"
   ]
  },
  {
   "cell_type": "markdown",
   "metadata": {},
   "source": [
    "## Define Functions"
   ]
  },
  {
   "cell_type": "code",
   "execution_count": 2,
   "metadata": {},
   "outputs": [],
   "source": [
    "#define API Call function to grab regular season data\n",
    "def api_call(api_key, url):\n",
    "    headers = {'Ocp-Apim-Subscription-Key' : '{}'.format(api_key)}\n",
    "    data = []\n",
    "    response = requests.get(url, headers=headers)\n",
    "    data_ = response.json()\n",
    "    data.extend(data_)\n",
    "    return data"
   ]
  },
  {
   "cell_type": "markdown",
   "metadata": {},
   "source": [
    "## Football"
   ]
  },
  {
   "cell_type": "code",
   "execution_count": 3,
   "metadata": {},
   "outputs": [],
   "source": [
    "#Grab api_key and url from config\n",
    "nfl_api_key = config.nfl_api_key\n",
    "nfl_url = config.nfl_url"
   ]
  },
  {
   "cell_type": "code",
   "execution_count": 4,
   "metadata": {},
   "outputs": [],
   "source": [
    "#Call on API\n",
    "nfl_data = api_call(nfl_api_key, nfl_url)"
   ]
  },
  {
   "cell_type": "code",
   "execution_count": 5,
   "metadata": {},
   "outputs": [],
   "source": [
    "parsed_data = []\n",
    "for game in nfl_data:\n",
    "    parsed_game = {}\n",
    "    parsed_game['game_id'] = game['GameKey']\n",
    "    parsed_game['month'] = game['Date'][5:7]\n",
    "    parsed_game['week'] = game['Week']\n",
    "    parsed_game['away_team'] = game['AwayTeam']\n",
    "    parsed_game['away_team_score'] = game['AwayScore']\n",
    "    parsed_game['away_team_moneyline'] = game['PointSpreadAwayTeamMoneyLine']\n",
    "    parsed_game['home_team'] = game['HomeTeam']\n",
    "    parsed_game['home_team_score'] = game['HomeScore']\n",
    "    parsed_game['home_team_moneyline'] = game['PointSpreadHomeTeamMoneyLine']\n",
    "    parsed_game['spread'] = game['PointSpread']\n",
    "    parsed_data.append(parsed_game)"
   ]
  },
  {
   "cell_type": "code",
   "execution_count": 6,
   "metadata": {},
   "outputs": [],
   "source": [
    "#define db_name\n",
    "table_name = 'nfl'\n",
    "\n",
    "#define create_query\n",
    "nfl_create_query = \"\"\" \n",
    "CREATE TABLE {} (\n",
    "     game_id varchar(11) NOT NULL primary key,\n",
    "     month varchar(2),\n",
    "     week int(2),\n",
    "     away_team varchar(3) not null,\n",
    "     away_team_score int(3) not null,\n",
    "     home_team varchar(3) not null,\n",
    "     home_team_score int(3) not null,\n",
    "     away_team_moneyline int(4) not null,\n",
    "     home_team_moneyline int(4) not null,\n",
    "     spread float(5) not null\n",
    "     )\n",
    " \"\"\".format(table_name)\n",
    "\n",
    "#get data into an insertable format\n",
    "nfl_data_to_insert = []\n",
    "\n",
    "for game in parsed_data:\n",
    "    game_to_insert = (\n",
    "        game['game_id'], \n",
    "        game['month'], \n",
    "        game['week'],\n",
    "        game['away_team'],\n",
    "        game['away_team_score'],\n",
    "        game['home_team'], \n",
    "        game['home_team_score'],\n",
    "        game['away_team_moneyline'],\n",
    "        game['home_team_moneyline'],\n",
    "        game['spread'] \n",
    "    )\n",
    "    nfl_data_to_insert.append(game_to_insert)\n",
    "    \n",
    "\n",
    "#define insert_query\n",
    "nfl_insert_query = \"\"\"\n",
    "INSERT INTO {} (\n",
    "    game_id,\n",
    "    month,\n",
    "    week,\n",
    "    away_team,\n",
    "    away_team_score,\n",
    "    home_team,\n",
    "    home_team_score,\n",
    "    away_team_moneyline,\n",
    "    home_team_moneyline,\n",
    "    spread\n",
    "    )\n",
    "VALUES (\n",
    "    %s,\n",
    "    %s,\n",
    "    %s,\n",
    "    %s,\n",
    "    %s,\n",
    "    %s,\n",
    "    %s,\n",
    "    %s,\n",
    "    %s,\n",
    "    %s\n",
    "    )\n",
    "\"\"\".format(table_name)"
   ]
  },
  {
   "cell_type": "markdown",
   "metadata": {},
   "source": [
    "## Hockey"
   ]
  },
  {
   "cell_type": "code",
   "execution_count": 7,
   "metadata": {},
   "outputs": [],
   "source": [
    "#Grab api_key and url from config\n",
    "nhl_api_key = config.nhl_api_key\n",
    "nhl_url = config.nhl_url"
   ]
  },
  {
   "cell_type": "code",
   "execution_count": 8,
   "metadata": {},
   "outputs": [],
   "source": [
    "#Call on API\n",
    "nhl_data = api_call(nhl_api_key, nhl_url)"
   ]
  },
  {
   "cell_type": "code",
   "execution_count": 9,
   "metadata": {},
   "outputs": [],
   "source": [
    "parsed_data = []\n",
    "for game in nhl_data:\n",
    "    parsed_game = {}\n",
    "    parsed_game['game_id'] = game['GameID']\n",
    "    parsed_game['month'] = game['DateTime'][5:7]\n",
    "    parsed_game['away_team'] = game['AwayTeam']\n",
    "    parsed_game['away_team_score'] = game['AwayTeamScore']\n",
    "    parsed_game['away_team_moneyline'] = game['PointSpreadAwayTeamMoneyLine']\n",
    "    parsed_game['home_team'] = game['HomeTeam']\n",
    "    parsed_game['home_team_score'] = game['HomeTeamScore']\n",
    "    parsed_game['home_team_moneyline'] = game['PointSpreadHomeTeamMoneyLine']\n",
    "    parsed_game['spread'] = game['PointSpread']\n",
    "    parsed_data.append(parsed_game)"
   ]
  },
  {
   "cell_type": "code",
   "execution_count": 10,
   "metadata": {},
   "outputs": [],
   "source": [
    "#define db_name\n",
    "table_name = 'nhl'\n",
    "\n",
    "#define create_query\n",
    "nhl_create_query = \"\"\" \n",
    "CREATE TABLE {} (\n",
    "    game_id varchar(11) NOT NULL primary key,\n",
    "    month varchar(2) not null,\n",
    "    away_team varchar(11) not null,\n",
    "    away_team_score int(3) not null,\n",
    "    home_team varchar(11) not null,\n",
    "    home_team_score int(3) not null,\n",
    "    away_team_moneyline int(4) not null,\n",
    "    home_team_moneyline int(4) not null,\n",
    "    spread float(5) not null\n",
    "    )\n",
    " \"\"\".format(table_name)\n",
    "\n",
    "#get data into an insertable format\n",
    "nhl_data_to_insert = []\n",
    "\n",
    "for game in parsed_data:\n",
    "    game_to_insert = (\n",
    "        game['game_id'], \n",
    "        game['month'], \n",
    "        game['away_team'],\n",
    "        game['away_team_score'],\n",
    "        game['home_team'], \n",
    "        game['home_team_score'],\n",
    "        game['away_team_moneyline'],\n",
    "        game['home_team_moneyline'],\n",
    "        game['spread'] \n",
    "    )\n",
    "    nhl_data_to_insert.append(game_to_insert)\n",
    "    \n",
    "\n",
    "#define insert_query\n",
    "nhl_insert_query = \"\"\"\n",
    "INSERT INTO {} (\n",
    "    game_id,\n",
    "    month,\n",
    "    away_team,\n",
    "    away_team_score,\n",
    "    home_team,\n",
    "    home_team_score,\n",
    "    away_team_moneyline,\n",
    "    home_team_moneyline,\n",
    "    spread\n",
    "    )\n",
    "VALUES (\n",
    "    %s,\n",
    "    %s,\n",
    "    %s,\n",
    "    %s,\n",
    "    %s,\n",
    "    %s,\n",
    "    %s,\n",
    "    %s,\n",
    "    %s\n",
    "    )\n",
    "\"\"\".format(table_name)"
   ]
  },
  {
   "cell_type": "markdown",
   "metadata": {},
   "source": [
    "## Baseball"
   ]
  },
  {
   "cell_type": "code",
   "execution_count": 11,
   "metadata": {},
   "outputs": [],
   "source": [
    "#Grab api_key and url from config\n",
    "mlb_api_key = config.mlb_api_key\n",
    "mlb_url = config.mlb_url"
   ]
  },
  {
   "cell_type": "code",
   "execution_count": 12,
   "metadata": {},
   "outputs": [],
   "source": [
    "#Call on API\n",
    "mlb_data = api_call(mlb_api_key, mlb_url)"
   ]
  },
  {
   "cell_type": "code",
   "execution_count": 13,
   "metadata": {},
   "outputs": [],
   "source": [
    "parsed_data = []\n",
    "for game in mlb_data:\n",
    "    parsed_game = {}\n",
    "    parsed_game['game_id'] = game['GameID']\n",
    "    parsed_game['month'] = game['DateTime'][5:7]\n",
    "    parsed_game['away_team'] = game['AwayTeam']\n",
    "    parsed_game['away_team_score'] = game['AwayTeamRuns']\n",
    "    parsed_game['away_team_moneyline'] = game['PointSpreadAwayTeamMoneyLine']\n",
    "    parsed_game['home_team'] = game['HomeTeam']\n",
    "    parsed_game['home_team_score'] = game['HomeTeamRuns']\n",
    "    parsed_game['home_team_moneyline'] = game['PointSpreadHomeTeamMoneyLine']\n",
    "    parsed_game['spread'] = game['PointSpread']\n",
    "    parsed_data.append(parsed_game)"
   ]
  },
  {
   "cell_type": "code",
   "execution_count": 14,
   "metadata": {},
   "outputs": [],
   "source": [
    "#define db_name\n",
    "table_name = 'mlb'\n",
    "\n",
    "#define create_query\n",
    "mlb_create_query = \"\"\" \n",
    "CREATE TABLE {} (\n",
    "    game_id varchar(11) NOT NULL primary key,\n",
    "    month varchar(2) not null,\n",
    "    away_team varchar(11) not null,\n",
    "    away_team_score int(3) not null,\n",
    "    home_team varchar(11) not null,\n",
    "    home_team_score int(3) not null,\n",
    "    away_team_moneyline int(4) not null,\n",
    "    home_team_moneyline int(4) not null,\n",
    "    spread float(5) not null\n",
    "    )\n",
    " \"\"\".format(table_name)\n",
    "\n",
    "#get data into an insertable format\n",
    "mlb_data_to_insert = []\n",
    "\n",
    "for game in parsed_data:\n",
    "    game_to_insert = (\n",
    "        game['game_id'], \n",
    "        game['month'], \n",
    "        game['away_team'],\n",
    "        game['away_team_score'],\n",
    "        game['home_team'], \n",
    "        game['home_team_score'],\n",
    "        game['away_team_moneyline'],\n",
    "        game['home_team_moneyline'],\n",
    "        game['spread'] \n",
    "    )\n",
    "    mlb_data_to_insert.append(game_to_insert)\n",
    "    \n",
    "\n",
    "#define insert_query\n",
    "mlb_insert_query = \"\"\"\n",
    "INSERT INTO {} (\n",
    "    game_id,\n",
    "    month,\n",
    "    away_team,\n",
    "    away_team_score,\n",
    "    home_team,\n",
    "    home_team_score,\n",
    "    away_team_moneyline,\n",
    "    home_team_moneyline,\n",
    "    spread\n",
    "    )\n",
    "VALUES (\n",
    "    %s,\n",
    "    %s,\n",
    "    %s,\n",
    "    %s,\n",
    "    %s,\n",
    "    %s,\n",
    "    %s,\n",
    "    %s,\n",
    "    %s\n",
    "    )\n",
    "\"\"\".format(table_name)"
   ]
  },
  {
   "cell_type": "code",
   "execution_count": null,
   "metadata": {},
   "outputs": [],
   "source": []
  }
 ],
 "metadata": {
  "kernelspec": {
   "display_name": "Python 3",
   "language": "python",
   "name": "python3"
  },
  "language_info": {
   "codemirror_mode": {
    "name": "ipython",
    "version": 3
   },
   "file_extension": ".py",
   "mimetype": "text/x-python",
   "name": "python",
   "nbconvert_exporter": "python",
   "pygments_lexer": "ipython3",
   "version": "3.7.3"
  }
 },
 "nbformat": 4,
 "nbformat_minor": 2
}
