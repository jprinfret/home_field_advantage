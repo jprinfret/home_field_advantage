{
 "cells": [
  {
   "cell_type": "markdown",
   "metadata": {},
   "source": [
    "# 2019 NBA Regular Season Evaluation"
   ]
  },
  {
   "cell_type": "markdown",
   "metadata": {},
   "source": [
    "## Import needed packages and config"
   ]
  },
  {
   "cell_type": "code",
   "execution_count": 1,
   "metadata": {},
   "outputs": [],
   "source": [
    "import requests\n",
    "import mysql.connector\n",
    "import config\n",
    "import pandas as pd\n",
    "import numpy as np\n",
    "import matplotlib.pyplot as plt\n",
    "import re\n",
    "from bs4 import BeautifulSoup \n"
   ]
  },
  {
   "cell_type": "markdown",
   "metadata": {},
   "source": [
    "## Connect to MySql  and create database. Commented out once DB is created"
   ]
  },
  {
   "cell_type": "code",
   "execution_count": 3,
   "metadata": {},
   "outputs": [],
   "source": [
    "cnx = mysql.connector.connect(\n",
    "        host = config.host,\n",
    "        user = config.user,\n",
    "        password = config.password,\n",
    ")\n",
    "cursor = cnx.cursor(buffered=True)"
   ]
  },
  {
   "cell_type": "code",
   "execution_count": null,
   "metadata": {
    "scrolled": true
   },
   "outputs": [],
   "source": []
  },
  {
   "cell_type": "markdown",
   "metadata": {},
   "source": [
    "## (re)Connect to database, with database defined, to create table"
   ]
  },
  {
   "cell_type": "code",
   "execution_count": 4,
   "metadata": {},
   "outputs": [],
   "source": [
    "cnx = mysql.connector.connect(\n",
    "    host = config.host,\n",
    "    user = config.user,\n",
    "    password = config.password,\n",
    "    database = 'sports'\n",
    ")\n",
    "cursor = cnx.cursor(buffered=True)"
   ]
  },
  {
   "cell_type": "markdown",
   "metadata": {},
   "source": [
    "## Make API Call to grab 2019 NBA reg season data\n"
   ]
  },
  {
   "cell_type": "code",
   "execution_count": 6,
   "metadata": {},
   "outputs": [],
   "source": [
    "\n",
    "# headers = {'api-nba-v1.p.rapidapi.com' '{}'.format(api_key)}\n",
    "headers = config.nba_headers"
   ]
  },
  {
   "cell_type": "code",
   "execution_count": 10,
   "metadata": {},
   "outputs": [],
   "source": [
    "\n",
    "\n",
    "nba_data = []\n",
    "\n",
    "response = requests.get(config.nba_url, headers=headers)\n",
    "data = response.json()\n",
    "nba_data.append(data)"
   ]
  },
  {
   "cell_type": "code",
   "execution_count": 12,
   "metadata": {},
   "outputs": [
    {
     "data": {
      "text/plain": [
       "[{'message': 'Missing RapidAPI application key. Go to https://docs.rapidapi.com/docs/keys to learn how to get your API application key.'}]"
      ]
     },
     "execution_count": 12,
     "metadata": {},
     "output_type": "execute_result"
    }
   ],
   "source": [
    "nba_data "
   ]
  },
  {
   "cell_type": "code",
   "execution_count": null,
   "metadata": {},
   "outputs": [],
   "source": [
    "nba_data[]\n"
   ]
  },
  {
   "cell_type": "code",
   "execution_count": null,
   "metadata": {},
   "outputs": [],
   "source": [
    "nba_data[1]['vTeam']['shortName']"
   ]
  },
  {
   "cell_type": "code",
   "execution_count": null,
   "metadata": {},
   "outputs": [],
   "source": [
    "parsed_games_nba = []\n",
    "for game in nba_data:\n",
    "    parsed_game = {}\n",
    "    parsed_game['game_id'] = game['gameId']\n",
    "    parsed_game['month'] = game['startTimeUTC'][5:7]\n",
    "    parsed_game['away_team'] = game['vTeam']['shortName']\n",
    "    parsed_game['away_team_score'] = game['vTeam']['score']['points']\n",
    "    parsed_game['home_team'] = game['hTeam']['shortName']\n",
    "    parsed_game['home_team_score'] = game['hTeam']['score']['points']\n",
    "    parsed_games_nba.append(parsed_game)"
   ]
  },
  {
   "cell_type": "code",
   "execution_count": null,
   "metadata": {},
   "outputs": [],
   "source": [
    "parsed_games_nba"
   ]
  },
  {
   "cell_type": "code",
   "execution_count": null,
   "metadata": {
    "scrolled": true
   },
   "outputs": [],
   "source": [
    "parsed_games_nba[0]['away_team_score'] = int(parsed_games_nba[0]['away_team_score'])"
   ]
  },
  {
   "cell_type": "code",
   "execution_count": null,
   "metadata": {},
   "outputs": [],
   "source": [
    "print(type(parsed_games_nba[0]['away_team_score']))"
   ]
  },
  {
   "cell_type": "code",
   "execution_count": null,
   "metadata": {},
   "outputs": [],
   "source": [
    "for i in range(len(parsed_games_nba)):\n",
    "    parsed_games_nba[i]['home_team_score'] = int(parsed_games_nba[i]['home_team_score'])\n",
    "#     parsed_game['home_team_score'] = game['hTeam']['score']['points']\n",
    "#     parsed_games_nba.append(parsed_game)"
   ]
  },
  {
   "cell_type": "markdown",
   "metadata": {},
   "source": [
    "## Creating NHL Table"
   ]
  },
  {
   "cell_type": "code",
   "execution_count": null,
   "metadata": {},
   "outputs": [],
   "source": [
    "cnx = mysql.connector.connect(\n",
    "    host = config.host,\n",
    "    user = config.user,\n",
    "    password = config.password,\n",
    "    database = 'sports'\n",
    ")\n",
    "cursor = cnx.cursor(buffered=True)"
   ]
  },
  {
   "cell_type": "code",
   "execution_count": null,
   "metadata": {},
   "outputs": [],
   "source": [
    "# cursor.execute(\"\"\"\n",
    "# CREATE DATABASE MLB\n",
    "# \"\"\")\n",
    "\n",
    "# cursor.close()\n",
    "# cnx.close()"
   ]
  },
  {
   "cell_type": "code",
   "execution_count": null,
   "metadata": {},
   "outputs": [],
   "source": [
    "cursor.execute(\"\"\"\n",
    "                CREATE TABLE nba (\n",
    "                game_id varchar(11) NOT NULL primary key,month varchar(2) not null,away_team varchar(11) not null,away_team_score int(3) not null,home_team varchar(11) not null,home_team_score int(3) not null\n",
    "                )\n",
    "\"\"\")"
   ]
  },
  {
   "cell_type": "markdown",
   "metadata": {},
   "source": [
    "## Inserting to table"
   ]
  },
  {
   "cell_type": "code",
   "execution_count": null,
   "metadata": {},
   "outputs": [],
   "source": [
    "nba_games_to_insert = []\n",
    "\n",
    "for game in parsed_games_nba:\n",
    "\n",
    "    nba_game_to_insert = (\n",
    "        game['game_id'], \n",
    "        game['month'], \n",
    "        game['away_team'],\n",
    "        game['away_team_score'],\n",
    "        game['home_team'], \n",
    "        game['home_team_score']\n",
    "    )\n",
    "    \n",
    "    nba_games_to_insert.append(nba_game_to_insert)"
   ]
  },
  {
   "cell_type": "code",
   "execution_count": null,
   "metadata": {},
   "outputs": [],
   "source": [
    "print(type(nba_games_to_insert))"
   ]
  },
  {
   "cell_type": "code",
   "execution_count": null,
   "metadata": {},
   "outputs": [],
   "source": [
    "cursor.execute(\"\"\"TRUNCATE TABLE nba\"\"\")"
   ]
  },
  {
   "cell_type": "code",
   "execution_count": null,
   "metadata": {},
   "outputs": [],
   "source": [
    "insert_query = \"\"\"\n",
    "    INSERT INTO nba (\n",
    "                    game_id,\n",
    "                    month,\n",
    "                    away_team,\n",
    "                    away_team_score,\n",
    "                    home_team,\n",
    "                    home_team_score\n",
    "        )\n",
    "    VALUES (\n",
    "            %s,\n",
    "            %s,\n",
    "            %s,\n",
    "            %s,\n",
    "            %s,\n",
    "            %s\n",
    "            )\n",
    "\"\"\"\n",
    "cursor.executemany(insert_query, nba_games_to_insert)\n",
    "cnx.commit()"
   ]
  },
  {
   "cell_type": "markdown",
   "metadata": {},
   "source": [
    "### Questions (Null Hypothesis)"
   ]
  },
  {
   "cell_type": "markdown",
   "metadata": {},
   "source": [
    "Is there a \"home field\" advantage(in general , 2018 season)?\n",
    "    \n",
    "Will a home team preform better (by month)?\n",
    "\n",
    "If home team cover more than away team (\"good teams win, great teams cover\")?\n"
   ]
  },
  {
   "cell_type": "markdown",
   "metadata": {},
   "source": [
    "## Creating MLB DataFrame"
   ]
  },
  {
   "cell_type": "code",
   "execution_count": null,
   "metadata": {},
   "outputs": [],
   "source": [
    "cnx = mysql.connector.connect(\n",
    "    host = config.host,\n",
    "    user = config.user,\n",
    "    password = config.password,\n",
    "    database = 'sports'\n",
    ")\n",
    "cursor = cnx.cursor(buffered=True)"
   ]
  },
  {
   "cell_type": "code",
   "execution_count": null,
   "metadata": {},
   "outputs": [],
   "source": [
    "cursor.execute(  \"\"\"SELECT * FROM nba\n",
    "                    order by game_id;\"\"\")\n",
    "#assigning database (pointed in MySql) as a dataframe using pandas                         \n",
    "df_nba = pd.DataFrame(cursor.fetchall())\n",
    "\n",
    "\n",
    "#assigning the column names \n",
    "df_nba.columns=['game_id','month', 'away_team', 'away_team_score', 'home_team', 'home_team_score', 'away_team_moneyline', 'home_team_moneyline', 'spread']"
   ]
  },
  {
   "cell_type": "code",
   "execution_count": null,
   "metadata": {
    "scrolled": true
   },
   "outputs": [],
   "source": [
    "df_nba"
   ]
  },
  {
   "cell_type": "code",
   "execution_count": null,
   "metadata": {},
   "outputs": [],
   "source": []
  },
  {
   "cell_type": "code",
   "execution_count": null,
   "metadata": {},
   "outputs": [],
   "source": []
  }
 ],
 "metadata": {
  "kernelspec": {
   "display_name": "Python 3",
   "language": "python",
   "name": "python3"
  },
  "language_info": {
   "codemirror_mode": {
    "name": "ipython",
    "version": 3
   },
   "file_extension": ".py",
   "mimetype": "text/x-python",
   "name": "python",
   "nbconvert_exporter": "python",
   "pygments_lexer": "ipython3",
   "version": "3.7.3"
  }
 },
 "nbformat": 4,
 "nbformat_minor": 2
}
