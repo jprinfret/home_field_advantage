{
 "cells": [
  {
   "cell_type": "markdown",
   "metadata": {},
   "source": [
    "# Evaluating Home Field Advantage During the 2018 Regular NFL Season"
   ]
  },
  {
   "cell_type": "markdown",
   "metadata": {},
   "source": [
    "## Query NFL data from MySql and put into Pandas to run statistics"
   ]
  },
  {
   "cell_type": "code",
   "execution_count": 3,
   "metadata": {},
   "outputs": [],
   "source": [
    "import pandas as pd\n",
    "import numpy as np\n",
    "import scipy.stats as stats\n",
    "\n",
    "import mysql.connector\n",
    "import config\n",
    "\n",
    "import matplotlib.pyplot as plt\n",
    "%matplotlib inline\n",
    "import seaborn as sns\n",
    "sns.set_style('darkgrid')"
   ]
  },
  {
   "cell_type": "code",
   "execution_count": 4,
   "metadata": {},
   "outputs": [],
   "source": [
    "cnx = mysql.connector.connect(\n",
    "    host = config.host,\n",
    "    user = config.user,\n",
    "    password = config.password,\n",
    "    database = 'sports'\n",
    ")\n",
    "cursor = cnx.cursor(buffered=True)"
   ]
  },
  {
   "cell_type": "code",
   "execution_count": 5,
   "metadata": {
    "scrolled": true
   },
   "outputs": [
    {
     "data": {
      "text/html": [
       "<div>\n",
       "<style scoped>\n",
       "    .dataframe tbody tr th:only-of-type {\n",
       "        vertical-align: middle;\n",
       "    }\n",
       "\n",
       "    .dataframe tbody tr th {\n",
       "        vertical-align: top;\n",
       "    }\n",
       "\n",
       "    .dataframe thead th {\n",
       "        text-align: right;\n",
       "    }\n",
       "</style>\n",
       "<table border=\"1\" class=\"dataframe\">\n",
       "  <thead>\n",
       "    <tr style=\"text-align: right;\">\n",
       "      <th></th>\n",
       "      <th>month</th>\n",
       "      <th>week</th>\n",
       "      <th>away_team</th>\n",
       "      <th>away_team_score</th>\n",
       "      <th>home_team</th>\n",
       "      <th>home_team_score</th>\n",
       "      <th>away_team_moneyline</th>\n",
       "      <th>home_team_moneyline</th>\n",
       "      <th>spread</th>\n",
       "      <th>home_pt_diff</th>\n",
       "    </tr>\n",
       "    <tr>\n",
       "      <th>game_id</th>\n",
       "      <th></th>\n",
       "      <th></th>\n",
       "      <th></th>\n",
       "      <th></th>\n",
       "      <th></th>\n",
       "      <th></th>\n",
       "      <th></th>\n",
       "      <th></th>\n",
       "      <th></th>\n",
       "      <th></th>\n",
       "    </tr>\n",
       "  </thead>\n",
       "  <tbody>\n",
       "    <tr>\n",
       "      <td>201810101</td>\n",
       "      <td>09</td>\n",
       "      <td>1</td>\n",
       "      <td>WAS</td>\n",
       "      <td>38</td>\n",
       "      <td>ARI</td>\n",
       "      <td>15</td>\n",
       "      <td>-161</td>\n",
       "      <td>-171</td>\n",
       "      <td>3.7</td>\n",
       "      <td>0</td>\n",
       "    </tr>\n",
       "    <tr>\n",
       "      <td>201810103</td>\n",
       "      <td>09</td>\n",
       "      <td>1</td>\n",
       "      <td>BUF</td>\n",
       "      <td>7</td>\n",
       "      <td>BAL</td>\n",
       "      <td>74</td>\n",
       "      <td>-163</td>\n",
       "      <td>-169</td>\n",
       "      <td>-11.8</td>\n",
       "      <td>0</td>\n",
       "    </tr>\n",
       "    <tr>\n",
       "      <td>201810105</td>\n",
       "      <td>09</td>\n",
       "      <td>1</td>\n",
       "      <td>DAL</td>\n",
       "      <td>13</td>\n",
       "      <td>CAR</td>\n",
       "      <td>25</td>\n",
       "      <td>172</td>\n",
       "      <td>-188</td>\n",
       "      <td>-4.0</td>\n",
       "      <td>0</td>\n",
       "    </tr>\n",
       "    <tr>\n",
       "      <td>201810108</td>\n",
       "      <td>09</td>\n",
       "      <td>1</td>\n",
       "      <td>PIT</td>\n",
       "      <td>33</td>\n",
       "      <td>CLE</td>\n",
       "      <td>33</td>\n",
       "      <td>166</td>\n",
       "      <td>-182</td>\n",
       "      <td>8.7</td>\n",
       "      <td>0</td>\n",
       "    </tr>\n",
       "    <tr>\n",
       "      <td>201810110</td>\n",
       "      <td>09</td>\n",
       "      <td>1</td>\n",
       "      <td>SEA</td>\n",
       "      <td>38</td>\n",
       "      <td>DEN</td>\n",
       "      <td>43</td>\n",
       "      <td>171</td>\n",
       "      <td>-186</td>\n",
       "      <td>-4.7</td>\n",
       "      <td>0</td>\n",
       "    </tr>\n",
       "  </tbody>\n",
       "</table>\n",
       "</div>"
      ],
      "text/plain": [
       "          month  week away_team  away_team_score home_team  home_team_score  \\\n",
       "game_id                                                                       \n",
       "201810101    09     1       WAS               38       ARI               15   \n",
       "201810103    09     1       BUF                7       BAL               74   \n",
       "201810105    09     1       DAL               13       CAR               25   \n",
       "201810108    09     1       PIT               33       CLE               33   \n",
       "201810110    09     1       SEA               38       DEN               43   \n",
       "\n",
       "           away_team_moneyline  home_team_moneyline  spread  home_pt_diff  \n",
       "game_id                                                                    \n",
       "201810101                 -161                 -171     3.7             0  \n",
       "201810103                 -163                 -169   -11.8             0  \n",
       "201810105                  172                 -188    -4.0             0  \n",
       "201810108                  166                 -182     8.7             0  \n",
       "201810110                  171                 -186    -4.7             0  "
      ]
     },
     "execution_count": 5,
     "metadata": {},
     "output_type": "execute_result"
    }
   ],
   "source": [
    "cursor.execute(\"\"\"\n",
    "SELECT\n",
    "    *\n",
    "FROM\n",
    "    sports.nfl\n",
    ";\n",
    "\"\"\")\n",
    "\n",
    "nfl_data = cursor.fetchall()\n",
    "\n",
    "columns = [\n",
    "    'game_id',\n",
    "    'month',\n",
    "    'week',\n",
    "    'away_team',\n",
    "    'away_team_score',\n",
    "    'home_team',\n",
    "    'home_team_score',\n",
    "    'away_team_moneyline',\n",
    "    'home_team_moneyline',\n",
    "    'spread'\n",
    "]\n",
    "\n",
    "df = pd.DataFrame(nfl_data,columns=columns).set_index('game_id')\n",
    "df['home_pt_diff'] = 0\n",
    "df.head()"
   ]
  },
  {
   "cell_type": "code",
   "execution_count": 6,
   "metadata": {},
   "outputs": [],
   "source": [
    "def home_pt_diff(df_):\n",
    "    df_['home_pt_diff'] = df_['home_team_score'] - df_['away_team_score']\n",
    "    return df_['home_pt_diff']"
   ]
  },
  {
   "cell_type": "code",
   "execution_count": 7,
   "metadata": {},
   "outputs": [
    {
     "data": {
      "text/html": [
       "<div>\n",
       "<style scoped>\n",
       "    .dataframe tbody tr th:only-of-type {\n",
       "        vertical-align: middle;\n",
       "    }\n",
       "\n",
       "    .dataframe tbody tr th {\n",
       "        vertical-align: top;\n",
       "    }\n",
       "\n",
       "    .dataframe thead th {\n",
       "        text-align: right;\n",
       "    }\n",
       "</style>\n",
       "<table border=\"1\" class=\"dataframe\">\n",
       "  <thead>\n",
       "    <tr style=\"text-align: right;\">\n",
       "      <th></th>\n",
       "      <th>month</th>\n",
       "      <th>week</th>\n",
       "      <th>away_team</th>\n",
       "      <th>away_team_score</th>\n",
       "      <th>home_team</th>\n",
       "      <th>home_team_score</th>\n",
       "      <th>away_team_moneyline</th>\n",
       "      <th>home_team_moneyline</th>\n",
       "      <th>spread</th>\n",
       "      <th>home_pt_diff</th>\n",
       "    </tr>\n",
       "    <tr>\n",
       "      <th>game_id</th>\n",
       "      <th></th>\n",
       "      <th></th>\n",
       "      <th></th>\n",
       "      <th></th>\n",
       "      <th></th>\n",
       "      <th></th>\n",
       "      <th></th>\n",
       "      <th></th>\n",
       "      <th></th>\n",
       "      <th></th>\n",
       "    </tr>\n",
       "  </thead>\n",
       "  <tbody>\n",
       "    <tr>\n",
       "      <td>201810101</td>\n",
       "      <td>09</td>\n",
       "      <td>1</td>\n",
       "      <td>WAS</td>\n",
       "      <td>38</td>\n",
       "      <td>ARI</td>\n",
       "      <td>15</td>\n",
       "      <td>-161</td>\n",
       "      <td>-171</td>\n",
       "      <td>3.7</td>\n",
       "      <td>-23</td>\n",
       "    </tr>\n",
       "    <tr>\n",
       "      <td>201810103</td>\n",
       "      <td>09</td>\n",
       "      <td>1</td>\n",
       "      <td>BUF</td>\n",
       "      <td>7</td>\n",
       "      <td>BAL</td>\n",
       "      <td>74</td>\n",
       "      <td>-163</td>\n",
       "      <td>-169</td>\n",
       "      <td>-11.8</td>\n",
       "      <td>67</td>\n",
       "    </tr>\n",
       "    <tr>\n",
       "      <td>201810105</td>\n",
       "      <td>09</td>\n",
       "      <td>1</td>\n",
       "      <td>DAL</td>\n",
       "      <td>13</td>\n",
       "      <td>CAR</td>\n",
       "      <td>25</td>\n",
       "      <td>172</td>\n",
       "      <td>-188</td>\n",
       "      <td>-4.0</td>\n",
       "      <td>12</td>\n",
       "    </tr>\n",
       "    <tr>\n",
       "      <td>201810108</td>\n",
       "      <td>09</td>\n",
       "      <td>1</td>\n",
       "      <td>PIT</td>\n",
       "      <td>33</td>\n",
       "      <td>CLE</td>\n",
       "      <td>33</td>\n",
       "      <td>166</td>\n",
       "      <td>-182</td>\n",
       "      <td>8.7</td>\n",
       "      <td>0</td>\n",
       "    </tr>\n",
       "    <tr>\n",
       "      <td>201810110</td>\n",
       "      <td>09</td>\n",
       "      <td>1</td>\n",
       "      <td>SEA</td>\n",
       "      <td>38</td>\n",
       "      <td>DEN</td>\n",
       "      <td>43</td>\n",
       "      <td>171</td>\n",
       "      <td>-186</td>\n",
       "      <td>-4.7</td>\n",
       "      <td>5</td>\n",
       "    </tr>\n",
       "  </tbody>\n",
       "</table>\n",
       "</div>"
      ],
      "text/plain": [
       "          month  week away_team  away_team_score home_team  home_team_score  \\\n",
       "game_id                                                                       \n",
       "201810101    09     1       WAS               38       ARI               15   \n",
       "201810103    09     1       BUF                7       BAL               74   \n",
       "201810105    09     1       DAL               13       CAR               25   \n",
       "201810108    09     1       PIT               33       CLE               33   \n",
       "201810110    09     1       SEA               38       DEN               43   \n",
       "\n",
       "           away_team_moneyline  home_team_moneyline  spread  home_pt_diff  \n",
       "game_id                                                                    \n",
       "201810101                 -161                 -171     3.7           -23  \n",
       "201810103                 -163                 -169   -11.8            67  \n",
       "201810105                  172                 -188    -4.0            12  \n",
       "201810108                  166                 -182     8.7             0  \n",
       "201810110                  171                 -186    -4.7             5  "
      ]
     },
     "execution_count": 7,
     "metadata": {},
     "output_type": "execute_result"
    }
   ],
   "source": [
    "df['home_pt_diff'] = df.apply(home_pt_diff, axis=1)\n",
    "df.head()"
   ]
  },
  {
   "cell_type": "code",
   "execution_count": 8,
   "metadata": {},
   "outputs": [
    {
     "data": {
      "text/plain": [
       "count    256.000000\n",
       "mean       3.531250\n",
       "std       22.428776\n",
       "min      -59.000000\n",
       "25%      -10.250000\n",
       "50%        5.000000\n",
       "75%       16.000000\n",
       "max       67.000000\n",
       "Name: home_pt_diff, dtype: float64"
      ]
     },
     "execution_count": 8,
     "metadata": {},
     "output_type": "execute_result"
    }
   ],
   "source": [
    "df['home_pt_diff'].describe()"
   ]
  },
  {
   "cell_type": "code",
   "execution_count": 9,
   "metadata": {},
   "outputs": [],
   "source": [
    "mu = df['home_pt_diff'].mean()\n",
    "sigma = df['home_pt_diff'].std()\n",
    "z_scores = [(df['home_pt_diff'].iloc[i] - mu) / sigma for i in range(df['home_pt_diff'].shape[0])]"
   ]
  },
  {
   "cell_type": "code",
   "execution_count": 11,
   "metadata": {},
   "outputs": [
    {
     "data": {
      "image/png": "[encoded data removed]",
      "text/plain": [
       "<Figure size 432x288 with 1 Axes>"
      ]
     },
     "metadata": {
      "needs_background": "light"
     },
     "output_type": "display_data"
    }
   ],
   "source": [
    "sns.distplot(z_scores, bins='auto', color='r');"
   ]
  },
  {
   "cell_type": "code",
   "execution_count": 132,
   "metadata": {
    "scrolled": false
   },
   "outputs": [
    {
     "data": {
      "image/png": "[encoded data removed]",
      "text/plain": [
       "<Figure size 432x288 with 1 Axes>"
      ]
     },
     "metadata": {},
     "output_type": "display_data"
    }
   ],
   "source": [
    "sns.distplot(df['home_pt_diff'], bins='auto', color='b');"
   ]
  },
  {
   "cell_type": "code",
   "execution_count": 12,
   "metadata": {},
   "outputs": [
    {
     "data": {
      "image/png": "[encoded data removed]",
      "text/plain": [
       "<Figure size 432x288 with 1 Axes>"
      ]
     },
     "metadata": {
      "needs_background": "light"
     },
     "output_type": "display_data"
    }
   ],
   "source": [
    "samples = [np.random.choice(z_scores, replace=False, size=50)\n",
    "           for i in range(10**5)]\n",
    "sns.distplot([np.mean(i) for i in samples]);"
   ]
  },
  {
   "cell_type": "code",
   "execution_count": 134,
   "metadata": {
    "scrolled": true
   },
   "outputs": [
    {
     "data": {
      "image/png": "[encoded data removed]",
      "text/plain": [
       "<Figure size 432x288 with 1 Axes>"
      ]
     },
     "metadata": {},
     "output_type": "display_data"
    }
   ],
   "source": [
    "samples = [np.random.choice(df['home_pt_diff'], replace=False, size=50)\n",
    "           for i in range(10**5)]\n",
    "sns.distplot([np.mean(i) for i in samples]);"
   ]
  },
  {
   "cell_type": "code",
   "execution_count": 139,
   "metadata": {},
   "outputs": [
    {
     "name": "stdout",
     "output_type": "stream",
     "text": [
      "Sampling Mean: 3.523827; Sampling Std Dev: 22.392817944021058\n"
     ]
    }
   ],
   "source": [
    "x_bar = np.mean(samples)\n",
    "s_bar = np.std(samples)\n",
    "\n",
    "print(f'Sampling Mean: {x_bar}; Sampling Std Dev: {s_bar}')"
   ]
  },
  {
   "cell_type": "code",
   "execution_count": null,
   "metadata": {},
   "outputs": [],
   "source": []
  }
 ],
 "metadata": {
  "kernelspec": {
   "display_name": "Python 3",
   "language": "python",
   "name": "python3"
  },
  "language_info": {
   "codemirror_mode": {
    "name": "ipython",
    "version": 3
   },
   "file_extension": ".py",
   "mimetype": "text/x-python",
   "name": "python",
   "nbconvert_exporter": "python",
   "pygments_lexer": "ipython3",
   "version": "3.7.3"
  }
 },
 "nbformat": 4,
 "nbformat_minor": 2
}
