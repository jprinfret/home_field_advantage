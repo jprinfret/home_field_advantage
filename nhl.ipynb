{
 "cells": [
  {
   "cell_type": "markdown",
   "metadata": {},
   "source": [
    "# Evaluating Home Field Advantage During the Regular Season"
   ]
  },
  {
   "cell_type": "markdown",
   "metadata": {},
   "source": [
    "## Import needed packages and config"
   ]
  },
  {
   "cell_type": "code",
   "execution_count": 1,
   "metadata": {},
   "outputs": [],
   "source": [
    "import requests\n",
    "import config"
   ]
  },
  {
   "cell_type": "markdown",
   "metadata": {},
   "source": [
    "## Make API Call to grab 2018 reg season data"
   ]
  },
  {
   "cell_type": "code",
   "execution_count": 2,
   "metadata": {},
   "outputs": [],
   "source": [
    "api_key = config.nhl_api_key\n",
    "url = config.nhl_url\n",
    "\n",
    "headers = {'Ocp-Apim-Subscription-Key' : '{}'.format(api_key)}\n",
    "\n",
    "data = []\n",
    "response = requests.get(url, headers=headers)\n",
    "data_ = response.json()\n",
    "data.append(data_)"
   ]
  },
  {
   "cell_type": "code",
   "execution_count": 3,
   "metadata": {},
   "outputs": [],
   "source": [
    "data = data[0] # data came back as list of lists of dictionaries."
   ]
  },
  {
   "cell_type": "code",
   "execution_count": 5,
   "metadata": {},
   "outputs": [],
   "source": [
    "parsed_data = []\n",
    "for game in data:\n",
    "    parsed_game = {}\n",
    "    parsed_game['game_id'] = game['GameID']\n",
    "    parsed_game['month'] = game['DateTime'][5:7]\n",
    "    parsed_game['away_team'] = game['AwayTeam']\n",
    "    parsed_game['away_team_score'] = game['AwayTeamScore']\n",
    "    parsed_game['away_team_moneyline'] = game['PointSpreadAwayTeamMoneyLine']\n",
    "    parsed_game['home_team'] = game['HomeTeam']\n",
    "    parsed_game['home_team_score'] = game['HomeTeamScore']\n",
    "    parsed_game['home_team_moneyline'] = game['PointSpreadHomeTeamMoneyLine']\n",
    "    parsed_game['spread'] = game['PointSpread']\n",
    "    parsed_data.append(parsed_game)"
   ]
  },
  {
   "cell_type": "code",
   "execution_count": 6,
   "metadata": {},
   "outputs": [],
   "source": [
    "#define db_name and create_query\n",
    "\n",
    "table_name = 'nhl'\n",
    "\n",
    "nhl_create_query = \"\"\" \n",
    "CREATE TABLE {} (\n",
    "     game_id varchar(11) NOT NULL primary key,\n",
    "    month varchar(2) not null,\n",
    "    away_team varchar(11) not null,\n",
    "    away_team_score int(3) not null,\n",
    "    home_team varchar(11) not null,\n",
    "    home_team_score int(3) not null,\n",
    "    away_team_moneyline int(4) not null,\n",
    "    home_team_moneyline int(4) not null,\n",
    "    spread float(5) not null\n",
    "    )\n",
    " \"\"\".format(table_name)"
   ]
  },
  {
   "cell_type": "code",
   "execution_count": 7,
   "metadata": {},
   "outputs": [],
   "source": [
    "#get data into an insertable format\n",
    "\n",
    "nhl_data_to_insert = []\n",
    "\n",
    "for game in parsed_data:\n",
    "    game_to_insert = (\n",
    "        game['game_id'], \n",
    "        game['month'], \n",
    "        game['away_team'],\n",
    "        game['away_team_score'],\n",
    "        game['home_team'], \n",
    "        game['home_team_score'],\n",
    "        game['away_team_moneyline'],\n",
    "        game['home_team_moneyline'],\n",
    "        game['spread'] \n",
    "    )\n",
    "    nhl_data_to_insert.append(game_to_insert)"
   ]
  },
  {
   "cell_type": "code",
   "execution_count": 11,
   "metadata": {},
   "outputs": [],
   "source": [
    "#define insert_query\n",
    "\n",
    "table_name = 'nhl'\n",
    "\n",
    "nhl_insert_query = \"\"\"\n",
    "INSERT INTO {} (\n",
    "    game_id,\n",
    "    month,\n",
    "    away_team,\n",
    "    away_team_score,\n",
    "    home_team,\n",
    "    home_team_score,\n",
    "    away_team_moneyline,\n",
    "    home_team_moneyline,\n",
    "    spread\n",
    "    )\n",
    "VALUES (\n",
    "    %s,\n",
    "    %s,\n",
    "    %s,\n",
    "    %s,\n",
    "    %s,\n",
    "    %s,\n",
    "    %s,\n",
    "    %s,\n",
    "    %s\n",
    "    )\n",
    "\"\"\".format(table_name)"
   ]
  },
  {
   "cell_type": "code",
   "execution_count": null,
   "metadata": {},
   "outputs": [],
   "source": []
  }
 ],
 "metadata": {
  "kernelspec": {
   "display_name": "Python 3",
   "language": "python",
   "name": "python3"
  },
  "language_info": {
   "codemirror_mode": {
    "name": "ipython",
    "version": 3
   },
   "file_extension": ".py",
   "mimetype": "text/x-python",
   "name": "python",
   "nbconvert_exporter": "python",
   "pygments_lexer": "ipython3",
   "version": "3.7.3"
  }
 },
 "nbformat": 4,
 "nbformat_minor": 2
}
